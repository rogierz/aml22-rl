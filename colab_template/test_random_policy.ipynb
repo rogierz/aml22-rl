{
  "nbformat": 4,
  "nbformat_minor": 0,
  "metadata": {
    "colab": {
      "provenance": []
    },
    "kernelspec": {
      "name": "python3",
      "display_name": "Python 3"
    },
    "language_info": {
      "name": "python"
    }
  },
  "cells": [
    {
      "cell_type": "markdown",
      "source": [
        "Install and load all dependencies (first time only) \\\n",
        "NOTE: you may need to restart the runtime afterwards (CTRL+M .)."
      ],
      "metadata": {
        "id": "Siz3Hiq1JUZ1"
      }
    },
    {
      "cell_type": "code",
      "execution_count": null,
      "metadata": {
        "id": "AW6XT0jSJI8e"
      },
      "outputs": [],
      "source": [
        "!pip install mujoco gymnasium stable-baselines3[extra]"
      ]
    },
    {
      "cell_type": "markdown",
      "source": [
        "Set up the custom Hopper environment and provided util functions\n",
        "\n",
        "\n",
        "\n",
        "1.   Upload `scripts.zip` to the current session's file storage\n",
        "2.   Un-zip it by running cell below\n"
      ],
      "metadata": {
        "id": "gwIRXGd5K3xJ"
      }
    },
    {
      "cell_type": "code",
      "source": [
        "!unzip scripts.zip"
      ],
      "metadata": {
        "id": "T9WsofDVLaCC"
      },
      "execution_count": null,
      "outputs": []
    },
    {
      "cell_type": "markdown",
      "source": [
        "\n",
        "\n",
        "---\n",
        "\n"
      ],
      "metadata": {
        "id": "7pJC_JevLf1f"
      }
    },
    {
      "cell_type": "markdown",
      "source": [
        "\n",
        "**Test a random policy on the Gymnasium Hopper environment**\n",
        "\n",
        "\\\n",
        "\n",
        "\n",
        "\n",
        "Play around with this code to get familiar with the\n",
        "Hopper environment.\n",
        "\n",
        "For example, what happens if you don't reset the environment\n",
        "even after the episode is over?\n",
        "When exactly is the episode over?\n",
        "What is an action here?\n",
        "\n",
        "Useful resources:\n",
        "- https://gymnasium.farama.org/\n",
        "- https://github.com/Farama-Foundation/Gymnasium/blob/main/gymnasium/envs/mujoco/hopper_v4.py"
      ],
      "metadata": {
        "id": "W4NsuF6pJPVJ"
      }
    },
    {
      "cell_type": "code",
      "source": [
        "from env_utils import *"
      ],
      "metadata": {
        "id": "uTYmUufrJTNl"
      },
      "execution_count": 3,
      "outputs": []
    },
    {
      "cell_type": "code",
      "source": [
        "env = make_env(domain=\"source\", render_mode=None)\n",
        "\n",
        "print('State space:', env.observation_space)  # state-space\n",
        "print('Action space:', env.action_space)  # action-space\n",
        "print('Dynamics parameters:', env.get_parameters())"
      ],
      "metadata": {
        "id": "QcCfCGg-Jyc3"
      },
      "execution_count": null,
      "outputs": []
    },
    {
      "cell_type": "code",
      "source": [
        "n_episodes = 5\n",
        "for episode in range(n_episodes):\n",
        "  done = False\n",
        "  observation = env.reset()\t # Reset environment to initial state\n",
        "\n",
        "  while not done:  # Until the episode is over\n",
        "\n",
        "    action = env.action_space.sample()\t# Sample random action\n",
        "  \n",
        "    observation, reward, done, info = env.step(action)\t# Step the simulator to the next timestep"
      ],
      "metadata": {
        "id": "DT1oXr8HJ05h"
      },
      "execution_count": 5,
      "outputs": []
    }
  ]
}